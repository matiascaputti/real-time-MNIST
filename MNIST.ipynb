{
 "cells": [
  {
   "cell_type": "code",
   "execution_count": 16,
   "metadata": {},
   "outputs": [],
   "source": [
    "import matplotlib.pyplot as plt\n",
    "from keras.datasets import mnist"
   ]
  },
  {
   "cell_type": "code",
   "execution_count": 17,
   "metadata": {
    "scrolled": true
   },
   "outputs": [],
   "source": [
    "(X_train, y_train), (X_test, y_test) = mnist.load_data()"
   ]
  },
  {
   "cell_type": "code",
   "execution_count": 18,
   "metadata": {},
   "outputs": [
    {
     "data": {
      "text/plain": [
       "60000"
      ]
     },
     "execution_count": 18,
     "metadata": {},
     "output_type": "execute_result"
    }
   ],
   "source": [
    "len(X_train)"
   ]
  },
  {
   "cell_type": "code",
   "execution_count": 19,
   "metadata": {},
   "outputs": [
    {
     "data": {
      "text/plain": [
       "10000"
      ]
     },
     "execution_count": 19,
     "metadata": {},
     "output_type": "execute_result"
    }
   ],
   "source": [
    "len(X_test)"
   ]
  },
  {
   "cell_type": "code",
   "execution_count": 20,
   "metadata": {},
   "outputs": [
    {
     "data": {
      "text/plain": [
       "(28, 28)"
      ]
     },
     "execution_count": 20,
     "metadata": {},
     "output_type": "execute_result"
    }
   ],
   "source": [
    "X_test[0].shape"
   ]
  },
  {
   "cell_type": "code",
   "execution_count": 21,
   "metadata": {},
   "outputs": [
    {
     "name": "stdout",
     "output_type": "stream",
     "text": [
      "Digit class: 5\n"
     ]
    },
    {
     "data": {
      "image/png": "[encoded data removed]",
      "text/plain": [
       "<Figure size 432x288 with 1 Axes>"
      ]
     },
     "metadata": {},
     "output_type": "display_data"
    }
   ],
   "source": [
    "plt.imshow(X_train[0], 'gray')\n",
    "print(\"Digit class:\", y_train[0])"
   ]
  },
  {
   "cell_type": "code",
   "execution_count": 22,
   "metadata": {
    "scrolled": true
   },
   "outputs": [
    {
     "data": {
      "text/plain": [
       "array([[[0., 0., 0., ..., 0., 0., 0.],\n",
       "        [0., 0., 0., ..., 0., 0., 0.],\n",
       "        [0., 0., 0., ..., 0., 0., 0.],\n",
       "        ...,\n",
       "        [0., 0., 0., ..., 0., 0., 0.],\n",
       "        [0., 0., 0., ..., 0., 0., 0.],\n",
       "        [0., 0., 0., ..., 0., 0., 0.]],\n",
       "\n",
       "       [[0., 0., 0., ..., 0., 0., 0.],\n",
       "        [0., 0., 0., ..., 0., 0., 0.],\n",
       "        [0., 0., 0., ..., 0., 0., 0.],\n",
       "        ...,\n",
       "        [0., 0., 0., ..., 0., 0., 0.],\n",
       "        [0., 0., 0., ..., 0., 0., 0.],\n",
       "        [0., 0., 0., ..., 0., 0., 0.]],\n",
       "\n",
       "       [[0., 0., 0., ..., 0., 0., 0.],\n",
       "        [0., 0., 0., ..., 0., 0., 0.],\n",
       "        [0., 0., 0., ..., 0., 0., 0.],\n",
       "        ...,\n",
       "        [0., 0., 0., ..., 0., 0., 0.],\n",
       "        [0., 0., 0., ..., 0., 0., 0.],\n",
       "        [0., 0., 0., ..., 0., 0., 0.]],\n",
       "\n",
       "       ...,\n",
       "\n",
       "       [[0., 0., 0., ..., 0., 0., 0.],\n",
       "        [0., 0., 0., ..., 0., 0., 0.],\n",
       "        [0., 0., 0., ..., 0., 0., 0.],\n",
       "        ...,\n",
       "        [0., 0., 0., ..., 0., 0., 0.],\n",
       "        [0., 0., 0., ..., 0., 0., 0.],\n",
       "        [0., 0., 0., ..., 0., 0., 0.]],\n",
       "\n",
       "       [[0., 0., 0., ..., 0., 0., 0.],\n",
       "        [0., 0., 0., ..., 0., 0., 0.],\n",
       "        [0., 0., 0., ..., 0., 0., 0.],\n",
       "        ...,\n",
       "        [0., 0., 0., ..., 0., 0., 0.],\n",
       "        [0., 0., 0., ..., 0., 0., 0.],\n",
       "        [0., 0., 0., ..., 0., 0., 0.]],\n",
       "\n",
       "       [[0., 0., 0., ..., 0., 0., 0.],\n",
       "        [0., 0., 0., ..., 0., 0., 0.],\n",
       "        [0., 0., 0., ..., 0., 0., 0.],\n",
       "        ...,\n",
       "        [0., 0., 0., ..., 0., 0., 0.],\n",
       "        [0., 0., 0., ..., 0., 0., 0.],\n",
       "        [0., 0., 0., ..., 0., 0., 0.]]], dtype=float32)"
      ]
     },
     "execution_count": 22,
     "metadata": {},
     "output_type": "execute_result"
    }
   ],
   "source": [
    "X_train = X_train.astype('float32') / 255\n",
    "X_test = X_test.astype('float32') / 255\n",
    "\n",
    "X_train"
   ]
  },
  {
   "cell_type": "code",
   "execution_count": 23,
   "metadata": {},
   "outputs": [
    {
     "data": {
      "text/plain": [
       "array([[0., 0., 0., ..., 0., 0., 0.],\n",
       "       [1., 0., 0., ..., 0., 0., 0.],\n",
       "       [0., 0., 0., ..., 0., 0., 0.],\n",
       "       ...,\n",
       "       [0., 0., 0., ..., 0., 0., 0.],\n",
       "       [0., 0., 0., ..., 0., 0., 0.],\n",
       "       [0., 0., 0., ..., 0., 1., 0.]], dtype=float32)"
      ]
     },
     "execution_count": 23,
     "metadata": {},
     "output_type": "execute_result"
    }
   ],
   "source": [
    "from keras.utils import np_utils\n",
    "\n",
    "Y_train = np_utils.to_categorical(y_train, 10) # 10 classes to codify\n",
    "Y_test = np_utils.to_categorical(y_test, 10)\n",
    "\n",
    "Y_train"
   ]
  },
  {
   "cell_type": "code",
   "execution_count": 36,
   "metadata": {},
   "outputs": [
    {
     "data": {
      "text/plain": [
       "(60000, 28, 28, 1)"
      ]
     },
     "execution_count": 36,
     "metadata": {},
     "output_type": "execute_result"
    }
   ],
   "source": [
    "from keras.models import Sequential\n",
    "from keras.layers.core import Dense\n",
    "from keras.layers.core import Activation\n",
    "from keras.layers.core import Dropout\n",
    "from keras.layers.convolutional import Convolution2D, MaxPooling2D\n",
    "from keras.layers.core import Flatten\n",
    "\n",
    "traintensor = X_train.reshape(60000, 28, 28, 1)\n",
    "testtensor = X_test.reshape(10000, 28, 28, 1)\n",
    "\n",
    "traintensor.shape"
   ]
  },
  {
   "cell_type": "code",
   "execution_count": 32,
   "metadata": {},
   "outputs": [],
   "source": [
    "img_rows = 28\n",
    "img_cols = 28\n",
    "kernel_size = 3\n",
    "pool_size = 2\n",
    "\n",
    "model = Sequential()\n",
    "\n",
    "model.add(Convolution2D(16, (kernel_size, kernel_size),\n",
    "                        padding='valid',\n",
    "                        input_shape=(img_rows, img_cols, 1)))\n",
    "model.add(Activation('relu'))\n",
    "\n",
    "#model.add(Convolution2D(32, (kernel_size, kernel_size)))\n",
    "#model.add(Activation('relu'))\n",
    "\n",
    "model.add(MaxPooling2D(pool_size=(pool_size, pool_size)))\n",
    "model.add(Dropout(0.25))\n",
    "\n",
    "model.add(Flatten())\n",
    "\n",
    "model.add(Dense(128))\n",
    "model.add(Activation('relu'))\n",
    "model.add(Dropout(0.5))\n",
    "\n",
    "model.add(Dense(10))\n",
    "model.add(Activation('softmax'))"
   ]
  },
  {
   "cell_type": "code",
   "execution_count": 33,
   "metadata": {
    "scrolled": true
   },
   "outputs": [
    {
     "name": "stdout",
     "output_type": "stream",
     "text": [
      "Train on 60000 samples, validate on 10000 samples\n",
      "Epoch 1/20\n",
      " - 31s - loss: 0.3980 - acc: 0.8794 - val_loss: 0.1272 - val_acc: 0.9608\n",
      "Epoch 2/20\n",
      " - 28s - loss: 0.1743 - acc: 0.9474 - val_loss: 0.0811 - val_acc: 0.9742\n",
      "Epoch 3/20\n",
      " - 28s - loss: 0.1334 - acc: 0.9601 - val_loss: 0.0645 - val_acc: 0.9791\n",
      "Epoch 4/20\n",
      " - 29s - loss: 0.1107 - acc: 0.9666 - val_loss: 0.0592 - val_acc: 0.9806\n",
      "Epoch 5/20\n",
      " - 29s - loss: 0.0985 - acc: 0.9696 - val_loss: 0.0511 - val_acc: 0.9834\n",
      "Epoch 6/20\n",
      " - 29s - loss: 0.0888 - acc: 0.9729 - val_loss: 0.0469 - val_acc: 0.9842\n",
      "Epoch 7/20\n",
      " - 31s - loss: 0.0790 - acc: 0.9763 - val_loss: 0.0495 - val_acc: 0.9839\n",
      "Epoch 8/20\n",
      " - 34s - loss: 0.0746 - acc: 0.9774 - val_loss: 0.0423 - val_acc: 0.9852\n",
      "Epoch 9/20\n",
      " - 34s - loss: 0.0691 - acc: 0.9781 - val_loss: 0.0399 - val_acc: 0.9864\n",
      "Epoch 10/20\n",
      " - 25s - loss: 0.0642 - acc: 0.9793 - val_loss: 0.0393 - val_acc: 0.9863\n",
      "Epoch 11/20\n",
      " - 23s - loss: 0.0612 - acc: 0.9806 - val_loss: 0.0393 - val_acc: 0.9864\n",
      "Epoch 12/20\n",
      " - 23s - loss: 0.0584 - acc: 0.9812 - val_loss: 0.0405 - val_acc: 0.9861\n",
      "Epoch 13/20\n",
      " - 32s - loss: 0.0557 - acc: 0.9821 - val_loss: 0.0380 - val_acc: 0.9884\n",
      "Epoch 14/20\n",
      " - 34s - loss: 0.0526 - acc: 0.9837 - val_loss: 0.0359 - val_acc: 0.9879\n",
      "Epoch 15/20\n",
      " - 36s - loss: 0.0488 - acc: 0.9841 - val_loss: 0.0368 - val_acc: 0.9882\n",
      "Epoch 16/20\n",
      " - 33s - loss: 0.0487 - acc: 0.9842 - val_loss: 0.0370 - val_acc: 0.9877\n",
      "Epoch 17/20\n",
      " - 29s - loss: 0.0445 - acc: 0.9854 - val_loss: 0.0354 - val_acc: 0.9881\n",
      "Epoch 18/20\n",
      " - 29s - loss: 0.0422 - acc: 0.9860 - val_loss: 0.0350 - val_acc: 0.9883\n",
      "Epoch 19/20\n",
      " - 27s - loss: 0.0437 - acc: 0.9855 - val_loss: 0.0369 - val_acc: 0.9876\n",
      "Epoch 20/20\n",
      " - 28s - loss: 0.0400 - acc: 0.9870 - val_loss: 0.0355 - val_acc: 0.9890\n"
     ]
    }
   ],
   "source": [
    "model.compile(loss='categorical_crossentropy', optimizer='adam', metrics=[\"accuracy\"])\n",
    "\n",
    "model_history = model.fit(\n",
    "    traintensor,\n",
    "    Y_train,\n",
    "    batch_size=128,\n",
    "    epochs=20,\n",
    "    verbose=2,\n",
    "    validation_data=(testtensor, Y_test)\n",
    ")"
   ]
  },
  {
   "cell_type": "code",
   "execution_count": 34,
   "metadata": {},
   "outputs": [
    {
     "name": "stdout",
     "output_type": "stream",
     "text": [
      "10000/10000 [==============================] - 3s 302us/step\n",
      "Test loss 0.03549052565697784\n",
      "Test accuracy 0.989\n"
     ]
    },
    {
     "data": {
      "image/png": "[encoded data removed]",
      "text/plain": [
       "<Figure size 1296x432 with 2 Axes>"
      ]
     },
     "metadata": {},
     "output_type": "display_data"
    }
   ],
   "source": [
    "preds = model.predict_classes(testtensor)\n",
    "\n",
    "score = model.evaluate(testtensor, Y_test)\n",
    "print(\"Test loss\", score[0])\n",
    "print(\"Test accuracy\", score[1])\n",
    "\n",
    "plt.figure(figsize=(18,6))\n",
    "\n",
    "# Loss Curves\n",
    "plt.subplot(1,2,1)\n",
    "plt.plot(model_history.history['loss'], linewidth=3.0)\n",
    "plt.plot(model_history.history['val_loss'], linewidth=3.0)\n",
    "plt.legend(['Training loss', 'Validation Loss'], fontsize=18)\n",
    "plt.xlabel('Epochs', fontsize=16)\n",
    "plt.ylabel('Loss', fontsize=16)\n",
    "plt.title('Loss Curves', fontsize=16)\n",
    "\n",
    "# Accuracy Curves\n",
    "plt.subplot(1,2,2)\n",
    "plt.plot(model_history.history['acc'], linewidth=3.0)\n",
    "plt.plot(model_history.history['val_acc'], linewidth=3.0)\n",
    "plt.legend(['Training Accuracy', 'Validation Accuracy'], fontsize=18)\n",
    "plt.xlabel('Epochs', fontsize=16)\n",
    "plt.ylabel('Accuracy', fontsize=16)\n",
    "plt.title('Accuracy Curves', fontsize=16)\n",
    "\n",
    "plt.show()"
   ]
  },
  {
   "cell_type": "code",
   "execution_count": 35,
   "metadata": {},
   "outputs": [],
   "source": [
    "from keras.models import load_model\n",
    "\n",
    "model.save('MNIST_model.h5')"
   ]
  }
 ],
 "metadata": {
  "anaconda-cloud": {},
  "kernelspec": {
   "display_name": "Python 3",
   "language": "python",
   "name": "python3"
  },
  "language_info": {
   "codemirror_mode": {
    "name": "ipython",
    "version": 3
   },
   "file_extension": ".py",
   "mimetype": "text/x-python",
   "name": "python",
   "nbconvert_exporter": "python",
   "pygments_lexer": "ipython3",
   "version": "3.6.5"
  }
 },
 "nbformat": 4,
 "nbformat_minor": 1
}
